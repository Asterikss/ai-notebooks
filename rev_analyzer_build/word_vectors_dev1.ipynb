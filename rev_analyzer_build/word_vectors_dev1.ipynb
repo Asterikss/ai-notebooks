{
 "cells": [
  {
   "cell_type": "code",
   "execution_count": 1,
   "metadata": {
    "executionInfo": {
     "elapsed": 1106,
     "status": "ok",
     "timestamp": 1705258818604,
     "user": {
      "displayName": "Jan Kowalski",
      "userId": "09459728062409658367"
     },
     "user_tz": -60
    },
    "id": "9WcIxSO9OIUz"
   },
   "outputs": [],
   "source": [
    "import gensim\n",
    "import gensim.downloader\n",
    "from gensim.models import KeyedVectors"
   ]
  },
  {
   "cell_type": "code",
   "execution_count": 2,
   "metadata": {
    "colab": {
     "base_uri": "https://localhost:8080/"
    },
    "executionInfo": {
     "elapsed": 8,
     "status": "ok",
     "timestamp": 1705258822575,
     "user": {
      "displayName": "Jan Kowalski",
      "userId": "09459728062409658367"
     },
     "user_tz": -60
    },
    "id": "2ktVWW9fORpr",
    "outputId": "608c2460-1893-4f27-e4ce-e04720254981"
   },
   "outputs": [
    {
     "name": "stdout",
     "output_type": "stream",
     "text": [
      "['fasttext-wiki-news-subwords-300', 'conceptnet-numberbatch-17-06-300', 'word2vec-ruscorpora-300', 'word2vec-google-news-300', 'glove-wiki-gigaword-50', 'glove-wiki-gigaword-100', 'glove-wiki-gigaword-200', 'glove-wiki-gigaword-300', 'glove-twitter-25', 'glove-twitter-50', 'glove-twitter-100', 'glove-twitter-200', '__testing_word2vec-matrix-synopsis']\n"
     ]
    }
   ],
   "source": [
    "print(list(gensim.downloader.info()['models'].keys()))"
   ]
  },
  {
   "cell_type": "code",
   "execution_count": 3,
   "metadata": {
    "colab": {
     "base_uri": "https://localhost:8080/"
    },
    "executionInfo": {
     "elapsed": 33563,
     "status": "ok",
     "timestamp": 1705258866004,
     "user": {
      "displayName": "Jan Kowalski",
      "userId": "09459728062409658367"
     },
     "user_tz": -60
    },
    "id": "9JilptW8OTL5",
    "outputId": "9fc4ee54-84de-4538-ecc3-703c6320fa3e"
   },
   "outputs": [
    {
     "name": "stdout",
     "output_type": "stream",
     "text": [
      "[==================================================] 100.0% 66.0/66.0MB downloaded\n"
     ]
    }
   ],
   "source": [
    "glove_vectors = gensim.downloader.load('glove-wiki-gigaword-50')"
   ]
  },
  {
   "cell_type": "code",
   "execution_count": 4,
   "metadata": {
    "colab": {
     "base_uri": "https://localhost:8080/"
    },
    "executionInfo": {
     "elapsed": 310,
     "status": "ok",
     "timestamp": 1705258897123,
     "user": {
      "displayName": "Jan Kowalski",
      "userId": "09459728062409658367"
     },
     "user_tz": -60
    },
    "id": "qh1p1E7QOUsy",
    "outputId": "fc201002-03c9-4bff-e4bc-7d33f622ec33"
   },
   "outputs": [
    {
     "data": {
      "text/plain": [
       "array([ 0.52042 , -0.8314  ,  0.49961 ,  1.2893  ,  0.1151  ,  0.057521,\n",
       "       -1.3753  , -0.97313 ,  0.18346 ,  0.47672 , -0.15112 ,  0.35532 ,\n",
       "        0.25912 , -0.77857 ,  0.52181 ,  0.47695 , -1.4251  ,  0.858   ,\n",
       "        0.59821 , -1.0903  ,  0.33574 , -0.60891 ,  0.41742 ,  0.21569 ,\n",
       "       -0.07417 , -0.5822  , -0.4502  ,  0.17253 ,  0.16448 , -0.38413 ,\n",
       "        2.3283  , -0.66682 , -0.58181 ,  0.74389 ,  0.095015, -0.47865 ,\n",
       "       -0.84591 ,  0.38704 ,  0.23693 , -1.5523  ,  0.64802 , -0.16521 ,\n",
       "       -1.4719  , -0.16224 ,  0.79857 ,  0.97391 ,  0.40027 , -0.21912 ,\n",
       "       -0.30938 ,  0.26581 ], dtype=float32)"
      ]
     },
     "execution_count": 4,
     "metadata": {},
     "output_type": "execute_result"
    }
   ],
   "source": [
    "glove_vectors[\"apple\"]"
   ]
  },
  {
   "cell_type": "code",
   "execution_count": 5,
   "metadata": {
    "colab": {
     "base_uri": "https://localhost:8080/"
    },
    "executionInfo": {
     "elapsed": 279,
     "status": "ok",
     "timestamp": 1705258921472,
     "user": {
      "displayName": "Jan Kowalski",
      "userId": "09459728062409658367"
     },
     "user_tz": -60
    },
    "id": "KPOOmHcVOVtE",
    "outputId": "a37b78b7-93d2-4599-f0be-4690303b96cc"
   },
   "outputs": [
    {
     "data": {
      "text/plain": [
       "gensim.models.keyedvectors.KeyedVectors"
      ]
     },
     "execution_count": 5,
     "metadata": {},
     "output_type": "execute_result"
    }
   ],
   "source": [
    "type(glove_vectors)"
   ]
  },
  {
   "cell_type": "code",
   "execution_count": 6,
   "metadata": {
    "executionInfo": {
     "elapsed": 4,
     "status": "ok",
     "timestamp": 1705258924235,
     "user": {
      "displayName": "Jan Kowalski",
      "userId": "09459728062409658367"
     },
     "user_tz": -60
    },
    "id": "96whVTYHOVqZ"
   },
   "outputs": [],
   "source": [
    "# word2vec_model = gensim.models.KeyedVectors.load_word2vec_format('path_to_word2vec.bin', binary=True)\n",
    "# https://radimrehurek.com/gensim/models/word2vec.html\n",
    "# https://code.google.com/archive/p/word2vec/\n",
    "# https://web.stanford.edu/class/cs224n/materials/Gensim%20word%20vector%20visualization.html\n",
    "# http://vectors.nlpl.eu/repository/\n",
    "# https://radimrehurek.com/gensim/models/keyedvectors.html + vis\n",
    "# https://medium.com/analytics-vidhya/basics-of-using-pre-trained-glove-vectors-in-python-d38905f356db\n",
    "# https://nlp.stanford.edu/projects/glove/\n",
    "# loading from txt and saving as ... from txt\n",
    "# https://stackoverflow.com/questions/37793118/load-pretrained-glove-vectors-in-python\n",
    "# python -m gensim.downloader --download glove-twitter-25\n",
    "# https://www.nltk.org/howto/data"
   ]
  },
  {
   "cell_type": "code",
   "execution_count": 7,
   "metadata": {
    "executionInfo": {
     "elapsed": 439,
     "status": "ok",
     "timestamp": 1705258926928,
     "user": {
      "displayName": "Jan Kowalski",
      "userId": "09459728062409658367"
     },
     "user_tz": -60
    },
    "id": "jVW4KbTVOVoo"
   },
   "outputs": [],
   "source": [
    "embedding_dim = glove_vectors.vector_size"
   ]
  },
  {
   "cell_type": "code",
   "execution_count": 8,
   "metadata": {
    "colab": {
     "base_uri": "https://localhost:8080/"
    },
    "executionInfo": {
     "elapsed": 5,
     "status": "ok",
     "timestamp": 1705258928216,
     "user": {
      "displayName": "Jan Kowalski",
      "userId": "09459728062409658367"
     },
     "user_tz": -60
    },
    "id": "cyWspqhpOVmM",
    "outputId": "ed39b6bc-e800-4115-d13b-297ce51c0302"
   },
   "outputs": [
    {
     "data": {
      "text/plain": [
       "50"
      ]
     },
     "execution_count": 8,
     "metadata": {},
     "output_type": "execute_result"
    }
   ],
   "source": [
    "embedding_dim"
   ]
  },
  {
   "cell_type": "code",
   "execution_count": 9,
   "metadata": {
    "executionInfo": {
     "elapsed": 577,
     "status": "ok",
     "timestamp": 1705258932865,
     "user": {
      "displayName": "Jan Kowalski",
      "userId": "09459728062409658367"
     },
     "user_tz": -60
    },
    "id": "GdOKLQ5gOVjo"
   },
   "outputs": [],
   "source": [
    "# vocab_size = len(glove_vectors.vocab)\n",
    "# AttributeError: The vocab attribute was removed from KeyedVector in Gensim 4.0.0.\n",
    "# Use KeyedVector's .key_to_index dict, .index_to_key list, and methods .get_vecattr(key, attr) and .set_vecattr(key, attr, new_val) instead."
   ]
  },
  {
   "cell_type": "code",
   "execution_count": 11,
   "metadata": {
    "colab": {
     "base_uri": "https://localhost:8080/"
    },
    "executionInfo": {
     "elapsed": 4,
     "status": "ok",
     "timestamp": 1705258956099,
     "user": {
      "displayName": "Jan Kowalski",
      "userId": "09459728062409658367"
     },
     "user_tz": -60
    },
    "id": "XW3bB2PLOVhF",
    "outputId": "e5c05214-7f3a-46d1-87ba-5fd1c32e8dae"
   },
   "outputs": [
    {
     "data": {
      "text/plain": [
       "[('angels', 0.8282379508018494),\n",
       " ('curse', 0.7312514185905457),\n",
       " ('magic', 0.7113283276557922),\n",
       " ('hell', 0.7073268294334412),\n",
       " ('heaven', 0.7036582231521606),\n",
       " ('satan', 0.7027183771133423),\n",
       " ('!', 0.6874018907546997),\n",
       " ('cubs', 0.6861929297447205),\n",
       " ('dragon', 0.6814904808998108),\n",
       " ('god', 0.6778445243835449)]"
      ]
     },
     "execution_count": 11,
     "metadata": {},
     "output_type": "execute_result"
    }
   ],
   "source": [
    "glove_vectors.most_similar(\"devil\")"
   ]
  },
  {
   "cell_type": "code",
   "execution_count": 12,
   "metadata": {
    "colab": {
     "base_uri": "https://localhost:8080/",
     "height": 35
    },
    "executionInfo": {
     "elapsed": 323,
     "status": "ok",
     "timestamp": 1705258964686,
     "user": {
      "displayName": "Jan Kowalski",
      "userId": "09459728062409658367"
     },
     "user_tz": -60
    },
    "id": "EeKgFtKZOVfN",
    "outputId": "1c6bff65-d165-4d30-e4ec-cb2b89ac406f"
   },
   "outputs": [
    {
     "data": {
      "application/vnd.google.colaboratory.intrinsic+json": {
       "type": "string"
      },
      "text/plain": [
       "'apple'"
      ]
     },
     "execution_count": 12,
     "metadata": {},
     "output_type": "execute_result"
    }
   ],
   "source": [
    "glove_vectors.index_to_key[3292]"
   ]
  },
  {
   "cell_type": "code",
   "execution_count": 13,
   "metadata": {
    "colab": {
     "base_uri": "https://localhost:8080/",
     "height": 35
    },
    "executionInfo": {
     "elapsed": 6,
     "status": "ok",
     "timestamp": 1705258966611,
     "user": {
      "displayName": "Jan Kowalski",
      "userId": "09459728062409658367"
     },
     "user_tz": -60
    },
    "id": "wbi9BNkTOVck",
    "outputId": "4731c2f1-4139-425c-bdc1-221cef52595f"
   },
   "outputs": [
    {
     "data": {
      "application/vnd.google.colaboratory.intrinsic+json": {
       "type": "string"
      },
      "text/plain": [
       "'the'"
      ]
     },
     "execution_count": 13,
     "metadata": {},
     "output_type": "execute_result"
    }
   ],
   "source": [
    "glove_vectors.index_to_key[0]"
   ]
  },
  {
   "cell_type": "code",
   "execution_count": 14,
   "metadata": {
    "executionInfo": {
     "elapsed": 287,
     "status": "ok",
     "timestamp": 1705258969713,
     "user": {
      "displayName": "Jan Kowalski",
      "userId": "09459728062409658367"
     },
     "user_tz": -60
    },
    "id": "HVADatrdOVaM"
   },
   "outputs": [],
   "source": [
    "key_to_index = glove_vectors.key_to_index"
   ]
  },
  {
   "cell_type": "code",
   "execution_count": 15,
   "metadata": {
    "colab": {
     "base_uri": "https://localhost:8080/"
    },
    "executionInfo": {
     "elapsed": 4,
     "status": "ok",
     "timestamp": 1705258972011,
     "user": {
      "displayName": "Jan Kowalski",
      "userId": "09459728062409658367"
     },
     "user_tz": -60
    },
    "id": "VGG4mWp-OVYP",
    "outputId": "0131f9e3-57f4-4c3a-9c2c-408bab99a984"
   },
   "outputs": [
    {
     "data": {
      "text/plain": [
       "3292"
      ]
     },
     "execution_count": 15,
     "metadata": {},
     "output_type": "execute_result"
    }
   ],
   "source": [
    "key_to_index[\"apple\"]"
   ]
  },
  {
   "cell_type": "code",
   "execution_count": 16,
   "metadata": {
    "colab": {
     "base_uri": "https://localhost:8080/"
    },
    "executionInfo": {
     "elapsed": 4,
     "status": "ok",
     "timestamp": 1705258975200,
     "user": {
      "displayName": "Jan Kowalski",
      "userId": "09459728062409658367"
     },
     "user_tz": -60
    },
    "id": "4UCgouLzOVVh",
    "outputId": "2fe79ec5-6adf-44b7-c862-23f4406d2e3a"
   },
   "outputs": [
    {
     "data": {
      "text/plain": [
       "398863"
      ]
     },
     "execution_count": 16,
     "metadata": {},
     "output_type": "execute_result"
    }
   ],
   "source": [
    "rock_cnt = glove_vectors.get_vecattr(\"rock\", \"count\")\n",
    "rock_cnt"
   ]
  },
  {
   "cell_type": "code",
   "execution_count": 17,
   "metadata": {
    "colab": {
     "base_uri": "https://localhost:8080/"
    },
    "executionInfo": {
     "elapsed": 304,
     "status": "ok",
     "timestamp": 1705258977399,
     "user": {
      "displayName": "Jan Kowalski",
      "userId": "09459728062409658367"
     },
     "user_tz": -60
    },
    "id": "VcAw15mhOVTN",
    "outputId": "42dcb505-bb20-41b0-e0a3-072397e2a4d1"
   },
   "outputs": [
    {
     "data": {
      "text/plain": [
       "(array([-6.4670e-01,  9.8998e-01, -1.4379e-01, -3.0598e-03, -6.5467e-01,\n",
       "         3.4059e-01, -1.2852e+00,  1.1048e-01, -4.9889e-01,  1.2157e+00,\n",
       "        -9.5013e-02, -3.4539e-01,  2.4915e-01,  9.7027e-01, -3.5134e-01,\n",
       "         1.6942e-01,  1.2763e+00,  1.7731e-01, -9.0689e-01, -4.8622e-01,\n",
       "        -2.2703e-02,  5.0465e-01,  1.2796e-01,  6.8351e-01, -8.2664e-02,\n",
       "        -3.7146e-01, -1.7035e+00,  6.1838e-01,  2.3596e-01, -4.8299e-01,\n",
       "         3.1793e+00, -1.5458e+00,  3.8759e-01,  1.9475e-01,  5.6217e-02,\n",
       "         2.3157e-02,  2.0685e-01, -1.3984e+00,  2.9874e-01, -5.9099e-01,\n",
       "        -9.7955e-02, -7.5545e-02, -7.3860e-01, -3.1120e-01,  4.0171e-01,\n",
       "        -9.3312e-02, -1.0007e-01, -1.2259e+00, -7.9443e-01, -4.6140e-01],\n",
       "       dtype=float32),\n",
       " (50,))"
      ]
     },
     "execution_count": 17,
     "metadata": {},
     "output_type": "execute_result"
    }
   ],
   "source": [
    "vector1 = glove_vectors.get_vector(\"rock\")\n",
    "vector1, vector1.shape"
   ]
  },
  {
   "cell_type": "code",
   "execution_count": 18,
   "metadata": {
    "colab": {
     "base_uri": "https://localhost:8080/"
    },
    "executionInfo": {
     "elapsed": 280,
     "status": "ok",
     "timestamp": 1705258981381,
     "user": {
      "displayName": "Jan Kowalski",
      "userId": "09459728062409658367"
     },
     "user_tz": -60
    },
    "id": "OwnkmI2uOVG8",
    "outputId": "1bb8acd4-3e51-4ad3-a2e5-8e39690ad2f7"
   },
   "outputs": [
    {
     "data": {
      "text/plain": [
       "array([-1.14098705e-01,  1.74664348e-01, -2.53691878e-02, -5.39847242e-04,\n",
       "       -1.15504868e-01,  6.00910448e-02, -2.26750657e-01,  1.94922294e-02,\n",
       "       -8.80202651e-02,  2.14488626e-01, -1.67633519e-02, -6.09379150e-02,\n",
       "        4.39580828e-02,  1.71186864e-01, -6.19876869e-02,  2.98911445e-02,\n",
       "        2.25180402e-01,  3.12831961e-02, -1.60004601e-01, -8.57848674e-02,\n",
       "       -4.00554016e-03,  8.90365094e-02,  2.25762632e-02,  1.20593175e-01,\n",
       "       -1.45845907e-02, -6.55375049e-02, -3.00552249e-01,  1.09102145e-01,\n",
       "        4.16309424e-02, -8.52149874e-02,  5.60930908e-01, -2.72728890e-01,\n",
       "        6.83833584e-02,  3.43601704e-02,  9.91848856e-03,  4.08564042e-03,\n",
       "        3.64950001e-02, -2.46722773e-01,  5.27073555e-02, -1.04269668e-01,\n",
       "       -1.72824170e-02, -1.33285699e-02, -1.30312830e-01, -5.49056977e-02,\n",
       "        7.08745793e-02, -1.64632425e-02, -1.76555701e-02, -2.16288239e-01,\n",
       "       -1.40163034e-01, -8.14058185e-02], dtype=float32)"
      ]
     },
     "execution_count": 18,
     "metadata": {},
     "output_type": "execute_result"
    }
   ],
   "source": [
    "normed_vector1 = glove_vectors.get_vector(\"rock\", norm=True)\n",
    "normed_vector1"
   ]
  },
  {
   "cell_type": "code",
   "execution_count": 19,
   "metadata": {
    "colab": {
     "base_uri": "https://localhost:8080/"
    },
    "executionInfo": {
     "elapsed": 268,
     "status": "ok",
     "timestamp": 1705258985246,
     "user": {
      "displayName": "Jan Kowalski",
      "userId": "09459728062409658367"
     },
     "user_tz": -60
    },
    "id": "mEll0AkwOVEq",
    "outputId": "b838b891-486c-4750-a1e0-5667ae8adf0a"
   },
   "outputs": [
    {
     "data": {
      "text/plain": [
       "400000"
      ]
     },
     "execution_count": 19,
     "metadata": {},
     "output_type": "execute_result"
    }
   ],
   "source": [
    "vocab_size = len(key_to_index)\n",
    "vocab_size"
   ]
  },
  {
   "cell_type": "code",
   "execution_count": 20,
   "metadata": {
    "colab": {
     "base_uri": "https://localhost:8080/"
    },
    "executionInfo": {
     "elapsed": 4,
     "status": "ok",
     "timestamp": 1705258987952,
     "user": {
      "displayName": "Jan Kowalski",
      "userId": "09459728062409658367"
     },
     "user_tz": -60
    },
    "id": "o4iWBgnwPSRG",
    "outputId": "98ac1745-edf4-460e-e0d1-ced599db6447"
   },
   "outputs": [
    {
     "data": {
      "text/plain": [
       "array([ True,  True,  True,  True,  True,  True,  True,  True,  True,\n",
       "        True,  True,  True,  True,  True,  True,  True,  True,  True,\n",
       "        True,  True,  True,  True,  True,  True,  True,  True,  True,\n",
       "        True,  True,  True,  True,  True,  True,  True,  True,  True,\n",
       "        True,  True,  True,  True,  True,  True,  True,  True,  True,\n",
       "        True,  True,  True,  True,  True])"
      ]
     },
     "execution_count": 20,
     "metadata": {},
     "output_type": "execute_result"
    }
   ],
   "source": [
    "glove_vectors.get_vector(\"apple\") == glove_vectors[\"apple\"]"
   ]
  },
  {
   "cell_type": "code",
   "execution_count": null,
   "metadata": {
    "id": "iVZyUta0Rl65"
   },
   "outputs": [],
   "source": [
    "glove_vectors.save('sample_data/glove-wiki-gigaword-100.model')"
   ]
  },
  {
   "cell_type": "code",
   "execution_count": 21,
   "metadata": {
    "executionInfo": {
     "elapsed": 262,
     "status": "ok",
     "timestamp": 1705258996579,
     "user": {
      "displayName": "Jan Kowalski",
      "userId": "09459728062409658367"
     },
     "user_tz": -60
    },
    "id": "s8tKfjBPPU14"
   },
   "outputs": [],
   "source": [
    "# UnpicklingError: STACK_GLOBAL requires str\n",
    "# from gensim.models.fasttext import FastText\n",
    "# model = FastText.load('/content/sample_data/glove-wiki-gigaword-100.model.vectors.npy')\n",
    "\n",
    "# AttributeError: Model of type <class 'gensim.models.keyedvectors.KeyedVectors'> can't be loaded by <class 'gensim.models.fasttext.FastText'>\n",
    "# from gensim.models.fasttext import FastText\n",
    "# model = FastText.load('/content/sample_data/glove-wiki-gigaword-100.model')\n",
    "\n",
    "# ModuleNotFoundError: No module named 'gensim.models.wrappers'\n",
    "# from gensim.models.wrappers import FastText\n",
    "# FastText.load_fasttext_format('sample_data/glove-wiki-gigaword-100.model.vectors.npy')\n",
    "\n",
    "# from gensim.models import KeyedVectors\n",
    "# KeyedVectors.load_word2vec_format('models/glove-wiki-gigaword-100.model.vectors.npy', binary=True, no_header=True)\n",
    "# KeyedVectors.load_word2vec_format('models/glove-wiki-gigaword-100.model.vectors.npy', binary=False, no_header=True)\n",
    "# KeyedVectors.load_word2vec_format(datapath('models/glove-wiki-gigaword-100.model.vectors.npy'), binary=False)  # C text format"
   ]
  },
  {
   "cell_type": "code",
   "execution_count": null,
   "metadata": {
    "id": "egrQt44qPbbS"
   },
   "outputs": [],
   "source": [
    "from gensim.models import KeyedVectors\n",
    "\n",
    "model = KeyedVectors.load(\"sample_data/glove-wiki-gigaword-100.model\")"
   ]
  },
  {
   "cell_type": "code",
   "execution_count": null,
   "metadata": {
    "id": "lLplWVAzPtkz"
   },
   "outputs": [],
   "source": [
    "model[\"apple\"]"
   ]
  }
 ],
 "metadata": {
  "colab": {
   "authorship_tag": "ABX9TyPmZUogaJb+BHcXMcBbkWWx",
   "provenance": []
  },
  "kernelspec": {
   "display_name": "Python 3 (ipykernel)",
   "language": "python",
   "name": "python3"
  },
  "language_info": {
   "codemirror_mode": {
    "name": "ipython",
    "version": 3
   },
   "file_extension": ".py",
   "mimetype": "text/x-python",
   "name": "python",
   "nbconvert_exporter": "python",
   "pygments_lexer": "ipython3",
   "version": "3.10.13"
  }
 },
 "nbformat": 4,
 "nbformat_minor": 1
}
